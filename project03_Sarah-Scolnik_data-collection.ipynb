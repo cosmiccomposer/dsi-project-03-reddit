{
 "cells": [
  {
   "cell_type": "markdown",
   "metadata": {},
   "source": [
    "## Setup"
   ]
  },
  {
   "cell_type": "code",
   "execution_count": 1,
   "metadata": {},
   "outputs": [],
   "source": [
    "import numpy as np\n",
    "import pandas as pd\n",
    "import requests\n",
    "import time\n",
    "import datetime as dt\n",
    "import json"
   ]
  },
  {
   "cell_type": "code",
   "execution_count": 2,
   "metadata": {},
   "outputs": [],
   "source": [
    "# ***to do***\n",
    "# add functionality to not skip any posts in chronological order\n",
    "# by matching 'after' to last post returned by each iteration of loop?"
   ]
  },
  {
   "cell_type": "markdown",
   "metadata": {},
   "source": [
    "## Pushshift search function"
   ]
  },
  {
   "cell_type": "code",
   "execution_count": 3,
   "metadata": {},
   "outputs": [],
   "source": [
    "# References used to create this code: \n",
    "# https://github.com/pushshift/api\n",
    "# Brian Collins, General Assembly instructor\n",
    "\n",
    "def pushshift(subreddit, post_type='submission', loops=1, size=500, skip=30):\n",
    "# subreddit: str, name of subreddit to search for\n",
    "# post_type: {'submission', 'comment'}, type of post to search for\n",
    "# loops: int, number of times to request posts\n",
    "# size: int, number of posts per request (max 500 per pushshift api guide)\n",
    "# skip: int, number of days back to search in each loop \n",
    "        # increase if too many duplicate posts are returned, decrease if you want to skip fewer posts\n",
    "\n",
    "    # data fields to return for submissions\n",
    "    subfields = ['author', 'author_fullname', 'created_utc', 'id', 'num_comments', 'permalink', \n",
    "                 'score', 'selftext', 'subreddit', 'title', 'url', 'is_self']    \n",
    "    # data fields to return for comments\n",
    "    comfields = ['author', 'author_fullname', 'body', 'created_utc', 'id', 'parent_id', \n",
    "                'permalink', 'score', 'subreddit']\n",
    "    # instantiate list for posts data\n",
    "    list_posts = [] \n",
    "    url_stem = \"https://api.pushshift.io/reddit/search/{}/?subreddit={}&size={}\".format(post_type, subreddit, size)\n",
    "    # skip a minimum of 1 day\n",
    "    after = 1    \n",
    "\n",
    "    # check before requesting data\n",
    "    if post_type not in ['submission', 'comment']:\n",
    "        print(\"post_type must be 'submission' or 'comment'\")\n",
    "        return None\n",
    "    \n",
    "    for i in range(loops):\n",
    "        # add parameters to url to skip posts (after could be used to match up to post at end of previous loop if skip = 0)\n",
    "        url = '{}&after={}d'.format(url_stem, skip * i + after) \n",
    "        # monitor status as loops run\n",
    "        print(i, url)\n",
    "        # get data\n",
    "        res = requests.get(url)\n",
    "        # add dictionaries for posts to list_posts\n",
    "        list_posts.extend(res.json()['data']) \n",
    "        # be polite\n",
    "        time.sleep(1) \n",
    "\n",
    "    # turn list_posts (a list of dictionaries where each dictionary contains data on one post) into a dataframe\n",
    "    df_posts = pd.DataFrame.from_dict(list_posts) \n",
    "\n",
    "    # filter fields for submissions or comments\n",
    "    if post_type == 'submission':\n",
    "        df_posts = df_posts[subfields]\n",
    "    elif post_type == 'comment':\n",
    "        df_posts = df_posts[comfields]  \n",
    "#     else:\n",
    "#         print(\"post_type must be 'submission' or 'comment'\")\n",
    "#         return None\n",
    "\n",
    "    # drop any duplicates\n",
    "    df_posts.drop_duplicates(inplace=True)\n",
    "    # add a field identifying submissions or comments\n",
    "    df_posts['post_type'] = post_type\n",
    "    \n",
    "    return df_posts"
   ]
  },
  {
   "cell_type": "markdown",
   "metadata": {},
   "source": [
    "## Get Reddit posts and save to csv's"
   ]
  },
  {
   "cell_type": "code",
   "execution_count": 4,
   "metadata": {
    "scrolled": false
   },
   "outputs": [
    {
     "name": "stdout",
     "output_type": "stream",
     "text": [
      "0 https://api.pushshift.io/reddit/search/submission/?subreddit=cats&size=500&after=1d\n",
      "1 https://api.pushshift.io/reddit/search/submission/?subreddit=cats&size=500&after=2d\n",
      "2 https://api.pushshift.io/reddit/search/submission/?subreddit=cats&size=500&after=3d\n",
      "3 https://api.pushshift.io/reddit/search/submission/?subreddit=cats&size=500&after=4d\n",
      "4 https://api.pushshift.io/reddit/search/submission/?subreddit=cats&size=500&after=5d\n",
      "5 https://api.pushshift.io/reddit/search/submission/?subreddit=cats&size=500&after=6d\n",
      "6 https://api.pushshift.io/reddit/search/submission/?subreddit=cats&size=500&after=7d\n",
      "7 https://api.pushshift.io/reddit/search/submission/?subreddit=cats&size=500&after=8d\n",
      "8 https://api.pushshift.io/reddit/search/submission/?subreddit=cats&size=500&after=9d\n",
      "9 https://api.pushshift.io/reddit/search/submission/?subreddit=cats&size=500&after=10d\n",
      "10 https://api.pushshift.io/reddit/search/submission/?subreddit=cats&size=500&after=11d\n",
      "11 https://api.pushshift.io/reddit/search/submission/?subreddit=cats&size=500&after=12d\n",
      "12 https://api.pushshift.io/reddit/search/submission/?subreddit=cats&size=500&after=13d\n",
      "13 https://api.pushshift.io/reddit/search/submission/?subreddit=cats&size=500&after=14d\n",
      "14 https://api.pushshift.io/reddit/search/submission/?subreddit=cats&size=500&after=15d\n",
      "15 https://api.pushshift.io/reddit/search/submission/?subreddit=cats&size=500&after=16d\n",
      "16 https://api.pushshift.io/reddit/search/submission/?subreddit=cats&size=500&after=17d\n",
      "17 https://api.pushshift.io/reddit/search/submission/?subreddit=cats&size=500&after=18d\n",
      "18 https://api.pushshift.io/reddit/search/submission/?subreddit=cats&size=500&after=19d\n",
      "19 https://api.pushshift.io/reddit/search/submission/?subreddit=cats&size=500&after=20d\n",
      "shape (10000, 13)\n"
     ]
    }
   ],
   "source": [
    "cats_subs = pushshift('cats', post_type='submission', loops=20, skip=1)\n",
    "print('shape', cats_subs.shape)\n",
    "cats_subs.to_csv('cats_subs-pushshift.csv')"
   ]
  },
  {
   "cell_type": "code",
   "execution_count": 5,
   "metadata": {
    "scrolled": false
   },
   "outputs": [
    {
     "name": "stdout",
     "output_type": "stream",
     "text": [
      "0 https://api.pushshift.io/reddit/search/submission/?subreddit=dogs&size=500&after=1d\n",
      "1 https://api.pushshift.io/reddit/search/submission/?subreddit=dogs&size=500&after=31d\n",
      "2 https://api.pushshift.io/reddit/search/submission/?subreddit=dogs&size=500&after=61d\n",
      "3 https://api.pushshift.io/reddit/search/submission/?subreddit=dogs&size=500&after=91d\n",
      "4 https://api.pushshift.io/reddit/search/submission/?subreddit=dogs&size=500&after=121d\n",
      "5 https://api.pushshift.io/reddit/search/submission/?subreddit=dogs&size=500&after=151d\n",
      "6 https://api.pushshift.io/reddit/search/submission/?subreddit=dogs&size=500&after=181d\n",
      "7 https://api.pushshift.io/reddit/search/submission/?subreddit=dogs&size=500&after=211d\n",
      "8 https://api.pushshift.io/reddit/search/submission/?subreddit=dogs&size=500&after=241d\n",
      "9 https://api.pushshift.io/reddit/search/submission/?subreddit=dogs&size=500&after=271d\n",
      "10 https://api.pushshift.io/reddit/search/submission/?subreddit=dogs&size=500&after=301d\n",
      "11 https://api.pushshift.io/reddit/search/submission/?subreddit=dogs&size=500&after=331d\n",
      "12 https://api.pushshift.io/reddit/search/submission/?subreddit=dogs&size=500&after=361d\n",
      "13 https://api.pushshift.io/reddit/search/submission/?subreddit=dogs&size=500&after=391d\n",
      "14 https://api.pushshift.io/reddit/search/submission/?subreddit=dogs&size=500&after=421d\n",
      "15 https://api.pushshift.io/reddit/search/submission/?subreddit=dogs&size=500&after=451d\n",
      "16 https://api.pushshift.io/reddit/search/submission/?subreddit=dogs&size=500&after=481d\n",
      "17 https://api.pushshift.io/reddit/search/submission/?subreddit=dogs&size=500&after=511d\n",
      "18 https://api.pushshift.io/reddit/search/submission/?subreddit=dogs&size=500&after=541d\n",
      "19 https://api.pushshift.io/reddit/search/submission/?subreddit=dogs&size=500&after=571d\n",
      "20 https://api.pushshift.io/reddit/search/submission/?subreddit=dogs&size=500&after=601d\n",
      "shape (10147, 13)\n"
     ]
    }
   ],
   "source": [
    "dogs_subs = pushshift('dogs', post_type='submission', loops=21, skip=30)\n",
    "print('shape', dogs_subs.shape)\n",
    "dogs_subs.to_csv('dogs_subs-pushshift.csv')"
   ]
  },
  {
   "cell_type": "code",
   "execution_count": 6,
   "metadata": {},
   "outputs": [
    {
     "name": "stdout",
     "output_type": "stream",
     "text": [
      "0 https://api.pushshift.io/reddit/search/comment/?subreddit=cats&size=500&after=1d\n",
      "1 https://api.pushshift.io/reddit/search/comment/?subreddit=cats&size=500&after=2d\n",
      "2 https://api.pushshift.io/reddit/search/comment/?subreddit=cats&size=500&after=3d\n",
      "3 https://api.pushshift.io/reddit/search/comment/?subreddit=cats&size=500&after=4d\n",
      "4 https://api.pushshift.io/reddit/search/comment/?subreddit=cats&size=500&after=5d\n",
      "5 https://api.pushshift.io/reddit/search/comment/?subreddit=cats&size=500&after=6d\n",
      "6 https://api.pushshift.io/reddit/search/comment/?subreddit=cats&size=500&after=7d\n",
      "7 https://api.pushshift.io/reddit/search/comment/?subreddit=cats&size=500&after=8d\n",
      "8 https://api.pushshift.io/reddit/search/comment/?subreddit=cats&size=500&after=9d\n",
      "9 https://api.pushshift.io/reddit/search/comment/?subreddit=cats&size=500&after=10d\n",
      "10 https://api.pushshift.io/reddit/search/comment/?subreddit=cats&size=500&after=11d\n",
      "11 https://api.pushshift.io/reddit/search/comment/?subreddit=cats&size=500&after=12d\n",
      "12 https://api.pushshift.io/reddit/search/comment/?subreddit=cats&size=500&after=13d\n",
      "13 https://api.pushshift.io/reddit/search/comment/?subreddit=cats&size=500&after=14d\n",
      "14 https://api.pushshift.io/reddit/search/comment/?subreddit=cats&size=500&after=15d\n",
      "15 https://api.pushshift.io/reddit/search/comment/?subreddit=cats&size=500&after=16d\n",
      "16 https://api.pushshift.io/reddit/search/comment/?subreddit=cats&size=500&after=17d\n",
      "17 https://api.pushshift.io/reddit/search/comment/?subreddit=cats&size=500&after=18d\n",
      "18 https://api.pushshift.io/reddit/search/comment/?subreddit=cats&size=500&after=19d\n",
      "19 https://api.pushshift.io/reddit/search/comment/?subreddit=cats&size=500&after=20d\n",
      "shape (10000, 10)\n"
     ]
    }
   ],
   "source": [
    "cats_coms = pushshift('cats', post_type='comment', loops=20, skip=1)\n",
    "print('shape', cats_coms.shape)\n",
    "cats_coms.to_csv('cats_coms-pushshift.csv')"
   ]
  },
  {
   "cell_type": "code",
   "execution_count": 7,
   "metadata": {
    "scrolled": true
   },
   "outputs": [
    {
     "name": "stdout",
     "output_type": "stream",
     "text": [
      "0 https://api.pushshift.io/reddit/search/comment/?subreddit=dogs&size=500&after=1d\n",
      "1 https://api.pushshift.io/reddit/search/comment/?subreddit=dogs&size=500&after=2d\n",
      "2 https://api.pushshift.io/reddit/search/comment/?subreddit=dogs&size=500&after=3d\n",
      "3 https://api.pushshift.io/reddit/search/comment/?subreddit=dogs&size=500&after=4d\n",
      "4 https://api.pushshift.io/reddit/search/comment/?subreddit=dogs&size=500&after=5d\n",
      "5 https://api.pushshift.io/reddit/search/comment/?subreddit=dogs&size=500&after=6d\n",
      "6 https://api.pushshift.io/reddit/search/comment/?subreddit=dogs&size=500&after=7d\n",
      "7 https://api.pushshift.io/reddit/search/comment/?subreddit=dogs&size=500&after=8d\n",
      "8 https://api.pushshift.io/reddit/search/comment/?subreddit=dogs&size=500&after=9d\n",
      "9 https://api.pushshift.io/reddit/search/comment/?subreddit=dogs&size=500&after=10d\n",
      "10 https://api.pushshift.io/reddit/search/comment/?subreddit=dogs&size=500&after=11d\n",
      "11 https://api.pushshift.io/reddit/search/comment/?subreddit=dogs&size=500&after=12d\n",
      "12 https://api.pushshift.io/reddit/search/comment/?subreddit=dogs&size=500&after=13d\n",
      "13 https://api.pushshift.io/reddit/search/comment/?subreddit=dogs&size=500&after=14d\n",
      "14 https://api.pushshift.io/reddit/search/comment/?subreddit=dogs&size=500&after=15d\n",
      "15 https://api.pushshift.io/reddit/search/comment/?subreddit=dogs&size=500&after=16d\n",
      "16 https://api.pushshift.io/reddit/search/comment/?subreddit=dogs&size=500&after=17d\n",
      "17 https://api.pushshift.io/reddit/search/comment/?subreddit=dogs&size=500&after=18d\n",
      "18 https://api.pushshift.io/reddit/search/comment/?subreddit=dogs&size=500&after=19d\n",
      "19 https://api.pushshift.io/reddit/search/comment/?subreddit=dogs&size=500&after=20d\n",
      "shape (10000, 10)\n"
     ]
    }
   ],
   "source": [
    "dogs_coms = pushshift('dogs', post_type='comment', loops=20, skip=1)\n",
    "print('shape', dogs_coms.shape)\n",
    "dogs_coms.to_csv('dogs_coms-pushshift.csv')"
   ]
  },
  {
   "cell_type": "markdown",
   "metadata": {},
   "source": [
    "## Create csv for analysis of comment body text only"
   ]
  },
  {
   "cell_type": "code",
   "execution_count": 8,
   "metadata": {},
   "outputs": [],
   "source": [
    "df = pd.concat([cats_coms[['body', 'subreddit']], dogs_coms[['body', 'subreddit']]], ignore_index=True)\n",
    "df.to_csv('comments.csv', index=False)"
   ]
  }
 ],
 "metadata": {
  "kernelspec": {
   "display_name": "Python 3",
   "language": "python",
   "name": "python3"
  },
  "language_info": {
   "codemirror_mode": {
    "name": "ipython",
    "version": 3
   },
   "file_extension": ".py",
   "mimetype": "text/x-python",
   "name": "python",
   "nbconvert_exporter": "python",
   "pygments_lexer": "ipython3",
   "version": "3.6.6"
  }
 },
 "nbformat": 4,
 "nbformat_minor": 2
}
